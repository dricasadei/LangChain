{
 "cells": [
  {
   "cell_type": "markdown",
   "id": "ac0cfc9f-15a6-4bbf-bfc8-b52592ba7bd2",
   "metadata": {},
   "source": [
    "# Considerações:\n",
    "\n",
    "- Sem usar o LangChain nesse exemplo.\n",
    "- Exemplo simples sem usar muitos parâmetros para o modelo."
   ]
  },
  {
   "cell_type": "markdown",
   "id": "lrHrsGQC6fJ6",
   "metadata": {
    "editable": true,
    "id": "lrHrsGQC6fJ6",
    "slideshow": {
     "slide_type": ""
    },
    "tags": []
   },
   "source": [
    "# Setup"
   ]
  },
  {
   "cell_type": "code",
   "execution_count": 1,
   "id": "6iortgIV7lEz",
   "metadata": {
    "editable": true,
    "id": "6iortgIV7lEz",
    "slideshow": {
     "slide_type": ""
    },
    "tags": []
   },
   "outputs": [],
   "source": [
    "# importando as bibliotecas\n",
    "\n",
    "from openai import OpenAI\n",
    "import os # import para ler o arquivo de configuração: config.yaml\n",
    "import yaml # import para ler o arquivo de configuração: config.yaml"
   ]
  },
  {
   "cell_type": "code",
   "execution_count": 2,
   "id": "RAoVhdWA7lHy",
   "metadata": {
    "editable": true,
    "id": "RAoVhdWA7lHy",
    "slideshow": {
     "slide_type": ""
    },
    "tags": []
   },
   "outputs": [],
   "source": [
    "# lendo o arquivo config.yaml para ter acesso a chave de acesso da OpenAI\n",
    "\n",
    "with open('config.yaml', 'r') as config_file:\n",
    "    config = yaml.safe_load(config_file) \n",
    "    \n",
    "os.environ['OPENAI_API_KEY'] = config['OPENAI_API_KEY']"
   ]
  },
  {
   "cell_type": "markdown",
   "id": "0Zh2E9OE68BA",
   "metadata": {
    "id": "0Zh2E9OE68BA"
   },
   "source": [
    "# Completion"
   ]
  },
  {
   "cell_type": "code",
   "execution_count": 3,
   "id": "ad4b1e9e-e1e0-4d81-ae5b-9a24dc700e13",
   "metadata": {
    "editable": true,
    "id": "ad4b1e9e-e1e0-4d81-ae5b-9a24dc700e13",
    "slideshow": {
     "slide_type": ""
    },
    "tags": []
   },
   "outputs": [],
   "source": [
    "client = OpenAI() # instanciando um objeto da OpenAI, no caso, chamado 'client'\n",
    "\n",
    "# a instância 'client' chama o metodo completions.create e passa alguns parametros, como modelo e o prompt/comando/input\n",
    "response = client.completions.create(\n",
    "  model=\"gpt-3.5-turbo-instruct\",\n",
    "  prompt=\"Crie uma canção contendo apenas uma estrofe.\"\n",
    ")\n",
    "# 'response' é o nome da variável que receberá a resposta do modelo conforme o prompt, o modelo retorna mais informações \n",
    "# além da resposta como visto na célula abaixo (print(response))"
   ]
  },
  {
   "cell_type": "code",
   "execution_count": 4,
   "id": "bi_-Nr6U72DS",
   "metadata": {
    "colab": {
     "base_uri": "https://localhost:8080/"
    },
    "id": "bi_-Nr6U72DS",
    "outputId": "6289939b-1ba0-426a-9fb3-311edb583ac2"
   },
   "outputs": [
    {
     "name": "stdout",
     "output_type": "stream",
     "text": [
      "Completion(id='cmpl-Af4OsZJceoSHxz96YivbdvZ9lEDuz', choices=[CompletionChoice(finish_reason='length', index=0, logprobs=None, text='\\n\\nViver intensamente, sem olhar pra trás\\nDeixar')], created=1734351726, model='gpt-3.5-turbo-instruct', object='text_completion', system_fingerprint=None, usage=CompletionUsage(completion_tokens=16, prompt_tokens=13, total_tokens=29))\n"
     ]
    }
   ],
   "source": [
    "# imprimindo a resposta do modelo\n",
    "\n",
    "print(response)"
   ]
  },
  {
   "cell_type": "code",
   "execution_count": 5,
   "id": "RRfIgzHI8gcb",
   "metadata": {
    "colab": {
     "base_uri": "https://localhost:8080/"
    },
    "id": "RRfIgzHI8gcb",
    "outputId": "bd04bbf5-5d41-4522-ce1d-c0b3814f825b"
   },
   "outputs": [
    {
     "name": "stdout",
     "output_type": "stream",
     "text": [
      "\n",
      "\n",
      "Viver intensamente, sem olhar pra trás\n",
      "Deixar\n"
     ]
    }
   ],
   "source": [
    "# Salvando na variável 'message' apenas o texto de resposta do modelo e imprimindo.\n",
    "# Se observar na resposta integral retornada pelo modelo a resposta fica na lista de nome 'choices' e \n",
    "# como só foi pedido para gerar uma resposta o indice é 0. \n",
    "# .text, pois a resposta em si está salva nesse item da lista.\n",
    "\n",
    "message = (response.choices[0].text)\n",
    "print(message)"
   ]
  }
 ],
 "metadata": {
  "colab": {
   "provenance": []
  },
  "kernelspec": {
   "display_name": "Python 3 (ipykernel)",
   "language": "python",
   "name": "python3"
  },
  "language_info": {
   "codemirror_mode": {
    "name": "ipython",
    "version": 3
   },
   "file_extension": ".py",
   "mimetype": "text/x-python",
   "name": "python",
   "nbconvert_exporter": "python",
   "pygments_lexer": "ipython3",
   "version": "3.12.8"
  }
 },
 "nbformat": 4,
 "nbformat_minor": 5
}
