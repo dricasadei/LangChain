{
 "cells": [
  {
   "cell_type": "markdown",
   "metadata": {
    "editable": true,
    "slideshow": {
     "slide_type": ""
    },
    "tags": []
   },
   "source": [
    "# Setup"
   ]
  },
  {
   "cell_type": "code",
   "execution_count": 1,
   "metadata": {},
   "outputs": [],
   "source": [
    "# importando as bibliotecas\n",
    "\n",
    "from langchain_google_genai import ChatGoogleGenerativeAI\n",
    "from langchain.prompts import PromptTemplate\n",
    "import os\n",
    "import yaml"
   ]
  },
  {
   "cell_type": "code",
   "execution_count": 2,
   "metadata": {},
   "outputs": [],
   "source": [
    "# lendo o arquivo config.yaml para ter acesso a chave de acesso do gemini\n",
    "\n",
    "with open('config.yaml', 'r') as config_file:\n",
    "    config = yaml.safe_load(config_file)\n",
    "os.environ['GOOGLE_API_KEY'] = config['GOOGLE_API_KEY']"
   ]
  },
  {
   "cell_type": "code",
   "execution_count": 3,
   "metadata": {},
   "outputs": [],
   "source": [
    "# instanciando o objeto da classe ChatGoogleGenerativeAI\n",
    "\n",
    "googleai = ChatGoogleGenerativeAI(model='gemini-pro') "
   ]
  },
  {
   "cell_type": "code",
   "execution_count": 4,
   "metadata": {},
   "outputs": [],
   "source": [
    "# template do prompt\n",
    "\n",
    "template = \"\"\"\n",
    "Você é um analista financeiro.\n",
    "Escreva um relatório financeiro detalhado para a empresa \"{empresa}\" para o período {periodo}.\n",
    "\n",
    "O relatório deve ser escrito em {idioma} e incluir as seguintes análises:\n",
    "{analises}\n",
    "\n",
    "Certifique-se de fornecer insights e conclusões para cada seção.\n",
    "\"\"\""
   ]
  },
  {
   "cell_type": "code",
   "execution_count": 5,
   "metadata": {},
   "outputs": [],
   "source": [
    "# instanciando um objeto PromptTemplate\n",
    "\n",
    "prompt_template = PromptTemplate.from_template(template=template)"
   ]
  },
  {
   "cell_type": "code",
   "execution_count": 6,
   "metadata": {},
   "outputs": [],
   "source": [
    "# Definindo as informações que serão substituidas no template de prompt\n",
    "# simulando uma entrada de informações externa: usuário, api etc\n",
    "\n",
    "empresa = 'ACME Corp'\n",
    "periodo = 'Q1 2024'\n",
    "idioma = 'Português'\n",
    "analises = [\n",
    "    \"Análise do Balanço Patrimonial\",\n",
    "    \"Análise do Fluxo de Caixa\",\n",
    "    \"Análise de Tendências\",\n",
    "    \"Análise de Receita e Lucro\",\n",
    "    \"Análise de Posição de Mercado\"\n",
    "]\n",
    "analises_text = \"\\n\".join([f\"- {analise}\" for analise in analises])"
   ]
  },
  {
   "cell_type": "code",
   "execution_count": 7,
   "metadata": {},
   "outputs": [],
   "source": [
    "# Formando o prompt passando as variáveis\n",
    "\n",
    "prompt = prompt_template.format(\n",
    "    empresa=empresa,\n",
    "    periodo=periodo,\n",
    "    idioma=idioma,\n",
    "    analises=analises_text\n",
    ")"
   ]
  },
  {
   "cell_type": "code",
   "execution_count": 8,
   "metadata": {},
   "outputs": [
    {
     "name": "stdout",
     "output_type": "stream",
     "text": [
      "Relatório Financeiro:\n",
      " **Relatório Financeiro Q1 2024**\n",
      "\n",
      "**ACME Corp**\n",
      "\n",
      "**Análise do Balanço Patrimonial**\n",
      "\n",
      "* **Ativos Totais:** Aumentaram 10% em relação ao trimestre anterior, atingindo US$ 100 milhões. O crescimento foi impulsionado principalmente pelo aumento dos estoques e investimentos de curto prazo.\n",
      "* **Passivos Totais:** Aumentaram 5% para US$ 60 milhões, devido ao aumento das dívidas bancárias e de fornecedores.\n",
      "* **Patrimônio Líquido:** Aumentou 12% para US$ 40 milhões.\n",
      "\n",
      "**Conclusão:** A empresa apresenta uma posição financeira sólida, com um aumento nos ativos e patrimônio líquido. No entanto, o aumento dos passivos deve ser monitorado de perto.\n",
      "\n",
      "**Análise do Fluxo de Caixa**\n",
      "\n",
      "* **Fluxo de Caixa Operacional:** Positivo em US$ 20 milhões, impulsionado por fortes vendas e eficiência operacional.\n",
      "* **Fluxo de Caixa de Investimento:** Negativo em US$ 10 milhões, devido a investimentos em novos equipamentos e expansão de capacidade.\n",
      "* **Fluxo de Caixa de Financiamento:** Positivo em US$ 5 milhões, proveniente principalmente da emissão de dívidas.\n",
      "\n",
      "**Conclusão:** A empresa gera fluxo de caixa positivo e utiliza os fundos para investir em crescimento.\n",
      "\n",
      "**Análise de Tendências**\n",
      "\n",
      "* **Vendas:** Aumentaram 8% em relação ao ano anterior, impulsionadas pela crescente demanda por produtos.\n",
      "* **Lucro Bruto:** Aumentou 10%, refletindo melhorias na eficiência de produção.\n",
      "* **Lucro Líquido:** Aumentou 15%, superando as expectativas dos analistas.\n",
      "\n",
      "**Conclusão:** A empresa apresenta um crescimento consistente e melhora da lucratividade.\n",
      "\n",
      "**Análise de Receita e Lucro**\n",
      "\n",
      "* **Receita:** Atingiu US$ 50 milhões, um aumento de 10% em relação ao trimestre anterior.\n",
      "* **Custo dos Produtos Vendidos:** Aumentou 5%, refletindo o aumento dos custos de matérias-primas.\n",
      "* **Lucro Bruto:** Atingiu US$ 15 milhões, representando uma margem de lucro bruto de 30%.\n",
      "* **Despesas Operacionais:** Aumentaram 6%, principalmente devido a maiores despesas de marketing e vendas.\n",
      "* **Lucro Líquido:** Atingiu US$ 8 milhões, representando uma margem de lucro líquido de 16%.\n",
      "\n",
      "**Conclusão:** A empresa apresenta receita crescente e lucratividade saudável. No entanto, o aumento das despesas operacionais deve ser monitorado.\n",
      "\n",
      "**Análise de Posição de Mercado**\n",
      "\n",
      "* A ACME Corp é líder de mercado em seu setor, com uma participação de mercado de 30%.\n",
      "* A empresa enfrenta concorrência de empresas menores, mas está bem posicionada devido à sua marca forte e rede de distribuição estabelecida.\n",
      "* A entrada de novos concorrentes é uma ameaça potencial, mas a ACME Corp está investindo em inovação e expansão geográfica para mitigar esse risco.\n",
      "\n",
      "**Conclusão:** A ACME Corp possui uma forte posição de mercado, mas deve permanecer vigilante quanto à concorrência e às mudanças no cenário do setor.\n",
      "\n",
      "**Insights e Recomendações**\n",
      "\n",
      "* A ACME Corp está bem posicionada para crescimento contínuo.\n",
      "* A empresa deve continuar investindo em inovação e expansão para manter sua liderança de mercado.\n",
      "* Os passivos crescentes devem ser monitorados e gerenciados com cuidado.\n",
      "* A empresa deve explorar oportunidades para reduzir as despesas operacionais sem comprometer o crescimento.\n"
     ]
    }
   ],
   "source": [
    "# Chamando o modelo e printando o resultado \n",
    "\n",
    "response = googleai.invoke(prompt)\n",
    "print(\"Relatório Financeiro:\\n\", response.content)"
   ]
  }
 ],
 "metadata": {
  "colab": {
   "provenance": []
  },
  "kernelspec": {
   "display_name": "Python 3 (ipykernel)",
   "language": "python",
   "name": "python3"
  },
  "language_info": {
   "codemirror_mode": {
    "name": "ipython",
    "version": 3
   },
   "file_extension": ".py",
   "mimetype": "text/x-python",
   "name": "python",
   "nbconvert_exporter": "python",
   "pygments_lexer": "ipython3",
   "version": "3.12.8"
  }
 },
 "nbformat": 4,
 "nbformat_minor": 4
}
