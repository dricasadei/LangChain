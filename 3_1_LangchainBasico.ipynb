{
 "cells": [
  {
   "cell_type": "markdown",
   "metadata": {},
   "source": [
    "# Considerações:\n",
    "- Exemplo usando LangChain\n",
    "- Sem usar as funcionalidades do LangChain, apenas chamando a API do OpenAI através do LangChain"
   ]
  },
  {
   "cell_type": "markdown",
   "metadata": {},
   "source": [
    "**LangChain** é uma estrutura (framework) projetada para ajudar desenvolvedores a criar aplicações avançadas utilizando modelos de linguagem (LLMs, como GPT). Esse framework fornece ferramentas e componentes que facilitam a integração, organização e execução de tarefas complexas com esses modelos. A principal premissa do LangChain é que, embora os modelos de linguagem sejam poderosos, maximizar sua utilidade em um contexto prático frequentemente exige combinar suas capacidades com outras fontes de dados e processos computacionais.\n",
    "\n",
    "- **Principais conceitos do LangChain:**\n",
    "\n",
    "    - Cadeias (**Chains**):\n",
    "        - O LangChain permite criar \"cadeias\" de tarefas, onde uma saída de um modelo serve como entrada para outra tarefa.\n",
    "        - Por exemplo, você pode usar uma LLM para interpretar uma consulta e, em seguida, chamar uma API externa ou base de dados, processar os resultados e apresentá-los ao usuário.\n",
    "\n",
    "    - **Memória**:\n",
    "        - Em interações dinâmicas, como bate-papos, é útil que o modelo \"lembre\" do contexto ou das interações anteriores.\n",
    "        - LangChain oferece ferramentas para implementar memória, permitindo que os modelos mantenham o estado da conversa.\n",
    "\n",
    "    - **Conectores de Dados Externos**:\n",
    "        - Muitas vezes, é necessário conectar-se a fontes de dados externas, como bases de conhecimento, documentos ou APIs.\n",
    "        - O LangChain facilita essa integração, permitindo que os modelos acessem e utilizem essas informações.\n",
    "\n",
    "    - **Agentes**:\n",
    "        - Os agentes são entidades que recebem uma tarefa ou objetivo e têm a capacidade de decidir quais ferramentas usar e em que ordem, a fim de atingir esse objetivo.\n",
    "        - Eles operam dinamicamente, escolhendo ações baseadas no contexto e nos dados fornecidos, enquanto interagem com modelos de linguagem.\n",
    "\n",
    "    - **Documentos e Recuperação de Informação**:\n",
    "        - Para lidar com grandes volumes de documentos, o LangChain suporta pipelines de Recuperação de Informação (Information Retrieval), permitindo que os modelos sejam usados para buscar e sintetizar respostas a partir de dados estruturados ou não estruturados.\n",
    "\n",
    "- **Ferramentas:**\n",
    "    - LangChain pode ser integrado a uma variedade de ferramentas, como:\n",
    "        - APIs externas, como OpenAI.\n",
    "        - Bases de conhecimento, como Pinecone, Elasticsearch ou bases relacionais.\n",
    "        - Plataformas de execução de código, para tarefas como cálculos ou manipulação de dados.\n",
    "\n",
    "- **Exemplos de aplicações com LangChain:**\n",
    "    - Assistentes Virtuais Personalizados: Um chatbot que interage com usuários e consulta informações específicas, como detalhes financeiros ou técnicos.\n",
    "    - Análise de Documentos: Um sistema que resume contratos ou encontra respostas em um repositório de documentos.\n",
    "    - Agentes Autônomos: Bots que executam tarefas complexas automaticamente, como planejar eventos ou pesquisar na internet.\n",
    "\n",
    "- **Por que usar LangChain?**\n",
    "    - LangChain é útil para desenvolvedores que desejam:\n",
    "        - Construir sistemas interativos que combinam LLMs com dados dinâmicos.\n",
    "        - Manter o contexto da interação com o usuário.\n",
    "        - Automatizar fluxos complexos envolvendo múltiplas ferramentas e APIs."
   ]
  },
  {
   "cell_type": "markdown",
   "metadata": {},
   "source": [
    "# Setpup"
   ]
  },
  {
   "cell_type": "code",
   "execution_count": 1,
   "metadata": {
    "editable": true,
    "id": "2ytPLsuJfx1d",
    "slideshow": {
     "slide_type": ""
    },
    "tags": []
   },
   "outputs": [],
   "source": [
    "# importando as bibliotecas\n",
    "\n",
    "from langchain_openai import OpenAI, ChatOpenAI # importando direto do langchain_openai (está no requirements.txt a versão)\n",
    "import os\n",
    "import yaml"
   ]
  },
  {
   "cell_type": "code",
   "execution_count": 2,
   "metadata": {},
   "outputs": [],
   "source": [
    "# lendo o arquivo config.yaml para ter acesso a chave de acesso da OpenAI\n",
    "\n",
    "with open('config.yaml', 'r') as config_file:\n",
    "    config = yaml.safe_load(config_file)\n",
    "    \n",
    "os.environ['OPENAI_API_KEY'] = config['OPENAI_API_KEY']"
   ]
  },
  {
   "cell_type": "markdown",
   "metadata": {
    "id": "jtCcyjx0y3xs"
   },
   "source": [
    "# Completion"
   ]
  },
  {
   "cell_type": "code",
   "execution_count": 3,
   "metadata": {
    "colab": {
     "base_uri": "https://localhost:8080/"
    },
    "id": "kFb-LFPTdqp5",
    "outputId": "b1d82bde-6b08-48ed-a664-0cf1774f7356"
   },
   "outputs": [
    {
     "name": "stdout",
     "output_type": "stream",
     "text": [
      "\n",
      "\n",
      "Carl Sagan (1934-1996) foi um renomado cientista, astrônomo, astrofísico, cosmólogo e divulgador científico americano. Ele nasceu em Nova York e desde jovem demonstrou grande interesse pela ciência, especialmente pela astronomia.\n",
      "\n",
      "Durante sua carreira, Sagan fez importantes contribuições para a NASA (Agência Espacial Americana), incluindo seus estudos sobre a atmosfera de Vênus e as sondas espaciais enviadas às luas de Júpiter.\n",
      "\n",
      "Além disso, ele era um importante defensor da exploração espacial e do uso da razão científica para entender o universo. Sagan ficou conhecido por popularizar conceitos complexos da ciência através de livros como \"Cosmos\" e \"O Mundo Assombrado pelos Demônios\", além de séries de televisão como \"Cosmos: Uma Viagem Pessoal\".\n",
      "\n",
      "Suas contribuições no campo da comunicação científica lhe renderam vários prêmios e honrarias ao longo dos anos. Após sua morte em 1996, seu legado continua influenciando gerações futuras na busca pelo conhecimento científico.\n"
     ]
    }
   ],
   "source": [
    "openai = OpenAI(model_name='gpt-3.5-turbo-instruct') # metodo OpenAI disponível pela biblioteca langchain_openai\n",
    "\n",
    "# parâmetros continuam os mesmos\n",
    "frequency_penalty=1\n",
    "presence_penalty = 1\n",
    "temperature =  1\n",
    "max_tokens=500\n",
    "n = 1\n",
    "seed = 123\n",
    "\n",
    "# Estruturando o input através do objeto instanciado openai e chamando o método 'invoke'\n",
    "# em 'input' indica-se o que se deseja do modelo, no caso, é o de completion\n",
    "response = openai.invoke(input='Quem foi Carl Sagan?', temperature=temperature,\n",
    "                    frequency_penalty=frequency_penalty,presence_penalty=presence_penalty,\n",
    "                    max_tokens=max_tokens,n=n, seed=seed)\n",
    "\n",
    "print(response) # imprimindo a resposta gerada pelo modelo da OpenAI"
   ]
  },
  {
   "cell_type": "markdown",
   "metadata": {
    "id": "YmLVQ3dgzKdm"
   },
   "source": [
    "# Chat"
   ]
  },
  {
   "cell_type": "code",
   "execution_count": 4,
   "metadata": {
    "colab": {
     "base_uri": "https://localhost:8080/"
    },
    "id": "AE1XHZmWxS4X",
    "outputId": "daf2f1de-2449-4794-84d1-c74fbc31f0bf"
   },
   "outputs": [
    {
     "name": "stdout",
     "output_type": "stream",
     "text": [
      "content='Carl Sagan foi um renomado astrônomo, astrofísico, cosmólogo, escritor e divulgador científico americano. Ele nasceu em 1934 e faleceu em 1996. Sagan é principalmente conhecido por seu trabalho de popularização da ciência, especialmente por sua série de televisão \"Cosmos: Uma Odisséia no Espaço-Tempo\", e por seu livro \"O Mundo Assombrado pelos Demônios\". Ele fez contribuições significativas no estudo dos planetas, na pesquisa de vida extraterrestre e na defesa da ciência e do pensamento crítico. Sagan também foi um defensor do ceticismo científico e do método científico.' response_metadata={'token_usage': {'completion_tokens': 163, 'prompt_tokens': 35, 'total_tokens': 198, 'prompt_tokens_details': {'cached_tokens': 0, 'audio_tokens': 0}, 'completion_tokens_details': {'reasoning_tokens': 0, 'audio_tokens': 0, 'accepted_prediction_tokens': 0, 'rejected_prediction_tokens': 0}}, 'model_name': 'gpt-3.5-turbo-0125', 'system_fingerprint': None, 'finish_reason': 'stop', 'logprobs': None} id='run-4e240f79-d419-47d9-8fc7-28a881f91b43-0' usage_metadata={'input_tokens': 35, 'output_tokens': 163, 'total_tokens': 198}\n"
     ]
    }
   ],
   "source": [
    "openai = ChatOpenAI(model_name='gpt-3.5-turbo') # metodo ChatOpenAI disponível pela biblioteca langchain_openai\n",
    "\n",
    "# Estruturando o input do modelo\n",
    "messages = [\n",
    "    {\"role\": \"system\", \"content\": \"Você é um assistente que fornece informações sobre figuras históricas.\"},\n",
    "    {\"role\": \"user\", \"content\": \"Quem foi Carl Sagan?\"}\n",
    "]\n",
    "\n",
    "# através do objeto instanciado openai e chamando o método 'invoke' passando como a 'messages' indicada \n",
    "response = openai.invoke(messages)\n",
    "\n",
    "print(response) # imprimindo a resposta gerada pelo modelo da OpenAI - Vem com mais informações"
   ]
  },
  {
   "cell_type": "code",
   "execution_count": 5,
   "metadata": {
    "colab": {
     "base_uri": "https://localhost:8080/"
    },
    "id": "MTBMLJXlyOZ_",
    "outputId": "313c0e4c-99ff-4a54-c91c-b98823c9e7e6"
   },
   "outputs": [
    {
     "name": "stdout",
     "output_type": "stream",
     "text": [
      "Carl Sagan foi um renomado astrônomo, astrofísico, cosmólogo, escritor e divulgador científico americano. Ele nasceu em 1934 e faleceu em 1996. Sagan é principalmente conhecido por seu trabalho de popularização da ciência, especialmente por sua série de televisão \"Cosmos: Uma Odisséia no Espaço-Tempo\", e por seu livro \"O Mundo Assombrado pelos Demônios\". Ele fez contribuições significativas no estudo dos planetas, na pesquisa de vida extraterrestre e na defesa da ciência e do pensamento crítico. Sagan também foi um defensor do ceticismo científico e do método científico.\n"
     ]
    }
   ],
   "source": [
    "print(response.content) # imprimindo apenas o texto da resposta gerada"
   ]
  }
 ],
 "metadata": {
  "colab": {
   "provenance": []
  },
  "kernelspec": {
   "display_name": "Python 3 (ipykernel)",
   "language": "python",
   "name": "python3"
  },
  "language_info": {
   "codemirror_mode": {
    "name": "ipython",
    "version": 3
   },
   "file_extension": ".py",
   "mimetype": "text/x-python",
   "name": "python",
   "nbconvert_exporter": "python",
   "pygments_lexer": "ipython3",
   "version": "3.12.8"
  }
 },
 "nbformat": 4,
 "nbformat_minor": 4
}
